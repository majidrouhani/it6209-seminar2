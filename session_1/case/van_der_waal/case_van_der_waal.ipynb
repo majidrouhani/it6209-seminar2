{
 "cells": [
  {
   "cell_type": "markdown",
   "metadata": {},
   "source": [
    "# Van der Waals Equation of State\n",
    "\n",
    "The mathematical formulation of van der Waals equation of state may be written as:\n",
    "\n",
    "\\begin{equation}\n",
    "{(P + \\frac{a}{V^2})\\cdot (V-b) = R\\cdot T}\n",
    "\\tag{1.1}\n",
    "\\end{equation}\n",
    "\n",
    "\\begin{equation}\n",
    "{a = \\frac{27\\cdot R^2\\cdot T_c^2}{64P_c}}\n",
    "\\tag{1.2}\n",
    "\\end{equation}\n",
    "\n",
    "\\begin{equation}\n",
    "{b = \\frac{R\\cdot T_c}{8P_c}}\n",
    "\\tag{1.3}\n",
    "\\end{equation}\n",
    "\n",
    "Where\n",
    "\n",
    "\n",
    "P is the pressure, \\\n",
    "V is the volume, \\\n",
    "T is the temperature, \\\n",
    "R is Universal gas constant \\\n",
    "a is the attraction parameter, \\\n",
    "b is the volume exclusion parameter \\\n",
    "$T_c$ is critical temperature, K\\\n",
    "$P_c$ is critical pressure of the gas.\n",
    "\n",
    "\n",
    "## Pseudokode\n",
    "\n",
    "1. Import modules\n",
    "1. Initialize variables\n",
    "1. Calculate the pressure for different temperatures\n",
    "1. Show graph\n"
   ]
  },
  {
   "cell_type": "code",
   "execution_count": 2,
   "metadata": {},
   "outputs": [],
   "source": [
    "%load \"case_van_der_waal_code.py\""
   ]
  }
 ],
 "metadata": {
  "kernelspec": {
   "display_name": "Python 3.10.2 64-bit",
   "language": "python",
   "name": "python3"
  },
  "language_info": {
   "codemirror_mode": {
    "name": "ipython",
    "version": 3
   },
   "file_extension": ".py",
   "mimetype": "text/x-python",
   "name": "python",
   "nbconvert_exporter": "python",
   "pygments_lexer": "ipython3",
   "version": "3.12.2"
  },
  "orig_nbformat": 4,
  "vscode": {
   "interpreter": {
    "hash": "3bd012613331a160b6ab7096b9a4a052284afc8931bfa34ed3cbb01db99d1af1"
   }
  }
 },
 "nbformat": 4,
 "nbformat_minor": 2
}
