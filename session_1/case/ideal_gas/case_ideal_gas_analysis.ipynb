{
 "cells": [
  {
   "cell_type": "markdown",
   "metadata": {},
   "source": [
    "**The objective**\n",
    "\n",
    "- Summary of basic concepts\n",
    "\n",
    "- Write code with maintainability and scalability in mind.\n",
    "    - Avoid hardcoding\n",
    "    - Use docstrings to document the code\n",
    "    \n",
    "- Learning to use the debugger\n",
    "    - in a padegogical context (to understand existing code and/or demonstrate programming concepts)\n",
    "    - finding semantic/logical errors. \n",
    "\n"
   ]
  },
  {
   "cell_type": "markdown",
   "metadata": {},
   "source": [
    "***\n",
    "## Case: ideal gas low\n",
    "\n",
    "Most gases can be modeled with the equation of state for ideal gases:\n",
    "\n",
    "\\begin{equation}\n",
    "{P\\cdot V = n\\cdot R\\cdot T}\n",
    "\\tag{1.1}\n",
    "\\end{equation}\n",
    "\n",
    "\n",
    "Where: \n",
    "- P is the pressure in pascal (pa)\n",
    "- V is the volume in cubic meters ($m^3$)\n",
    "- n is the amount of substance in mol\n",
    "- R is the gas constant $8.3144598 J\\cdot mol^{-1}\\cdot K^{-1}$ (or $0.082057338 \\frac{l\\cdot atm}{mol\\cdot K}$)\n",
    "- T is the temperature in Kelvin (K).\n",
    "\n",
    "\n",
    "## Task\n",
    "\n",
    "Create a program where you solve the equation for various variables (P and V) given by the user\n",
    "\n"
   ]
  },
  {
   "cell_type": "markdown",
   "metadata": {},
   "source": [
    "***\n",
    "\n",
    "### Calculation of volume V:\n",
    "\n",
    "\\begin{equation}\n",
    "V = \\frac{n\\cdot R\\cdot T}{P}\n",
    "\\tag{1.2}\n",
    "\\end{equation}\n",
    "\n",
    "We need input for n, T and P\n",
    "\n",
    "### Calculation of pressure P\n",
    "\n",
    "\\begin{equation}\n",
    "P = \\frac{n\\cdot R\\cdot T}{V}\n",
    "\\tag{1.3}\n",
    "\\end{equation}\n",
    "\n",
    "We need input for n, T and V"
   ]
  },
  {
   "cell_type": "markdown",
   "metadata": {},
   "source": [
    "\n",
    "## Pseudocode\n",
    "\n",
    "1. Define the constant R\n",
    "1. Get the type of calculation\n",
    "1. Validate input   \n",
    "1. If the user wants to calculate volume (V), ask the user to enter the parameters T and P\n",
    "   1. Validate input\n",
    "   1. Calculate V\n",
    "1. If the user wants to calculate pressure (P), ask the user to enter the parameters T and V\n",
    "   1. Validate input\n",
    "   1. Calculate P\n",
    "1. If input is Q or q, exit the program\n",
    "   1. Close\n",
    "\n",
    " "
   ]
  },
  {
   "cell_type": "markdown",
   "metadata": {},
   "source": [
    "  \n",
    "## Flow diagram\n",
    "\n",
    "![Flytdiagram: ideel gass](../../images/case_ideal_gas.jpg)\n"
   ]
  },
  {
   "cell_type": "code",
   "execution_count": null,
   "metadata": {},
   "outputs": [],
   "source": [
    "%load case_ideal_gas_code.py"
   ]
  }
 ],
 "metadata": {
  "kernelspec": {
   "display_name": "Python 3.10.6 64-bit",
   "language": "python",
   "name": "python3"
  },
  "language_info": {
   "codemirror_mode": {
    "name": "ipython",
    "version": 3
   },
   "file_extension": ".py",
   "mimetype": "text/x-python",
   "name": "python",
   "nbconvert_exporter": "python",
   "pygments_lexer": "ipython3",
   "version": "3.12.2"
  },
  "orig_nbformat": 4,
  "vscode": {
   "interpreter": {
    "hash": "607079afe3a2a2d35ed9965cd3a5fc45cd7e1ba906577a56395d9b6815374bc5"
   }
  }
 },
 "nbformat": 4,
 "nbformat_minor": 2
}
